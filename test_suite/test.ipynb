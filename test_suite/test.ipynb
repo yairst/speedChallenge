{
 "cells": [
  {
   "cell_type": "code",
   "execution_count": 1,
   "metadata": {},
   "outputs": [],
   "source": [
    "import numpy as np\n",
    "import pandas as pd\n",
    "import matplotlib.pyplot as plt\n",
    "import matplotlib.image as mpimg\n",
    "import cv2\n",
    "import os\n",
    "import json\n",
    "import csv"
   ]
  },
  {
   "cell_type": "code",
   "execution_count": 3,
   "metadata": {},
   "outputs": [],
   "source": [
    "import tensorflow as tf\n",
    "import matplotlib.pyplot as plt\n",
    "import matplotlib.image as mpimg\n",
    "import matplotlib.gridspec as gridspec\n",
    "from sklearn.utils import shuffle\n",
    "from sklearn.model_selection import train_test_split"
   ]
  },
  {
   "cell_type": "code",
   "execution_count": 2,
   "metadata": {},
   "outputs": [],
   "source": [
    "# change these depending on your file names / paths\n",
    "TEST_GROUND_TRUTH_JSON_PATH = './data/drive.json' # change this to the test ground truth\n",
    "VIDEO_PATH = './data/drive.mp4' # change this to the test video\n",
    "TEST_IMG_PATH = './test/test_IMG/'\n",
    "DRIVE_TEST_CSV_PATH = './test/driving_test.csv'\n",
    "TEST_PREDICT_PATH = './test/test_predict/'\n",
    "\n",
    "# WEIGHTS = 'model-weights-F5.h5' # this one is less overfit but performs 10% worse\n",
    "WEIGHTS = 'model-weights-Vtest2.h5'\n",
    "EVAL_SAMPLE_SIZE = 100 # Number of samples to evaluate to compute MSE"
   ]
  },
  {
   "cell_type": "code",
   "execution_count": 5,
   "metadata": {},
   "outputs": [],
   "source": [
    "with open(TEST_GROUND_TRUTH_JSON_PATH) as json_data:\n",
    "    ground_truth = json.load(json_data)"
   ]
  },
  {
   "cell_type": "code",
   "execution_count": 14,
   "metadata": {},
   "outputs": [
    {
     "data": {
      "text/plain": [
       "[[0.0046617984771728516, 2.022714671839518],\n",
       " [0.06979799270629883, 2.0408718759120985],\n",
       " [0.1299138069152832, 2.062394381052997],\n",
       " [0.22664284706115723, 2.076283274985422],\n",
       " [0.2913668155670166, 2.077074381187724],\n",
       " [0.34787487983703613, 2.0708698071680947],\n",
       " [0.3938179016113281, 2.1075719944688287],\n",
       " [0.461500883102417, 2.1223243851266704],\n",
       " [0.5268487930297852, 2.127575732589725],\n",
       " [0.5937719345092773, 2.123339248942513],\n",
       " [0.661078929901123, 2.1333686101944602],\n",
       " [0.7275547981262207, 2.139514792379639],\n",
       " [0.7943098545074463, 2.1303879165607715],\n",
       " [0.8603157997131348, 2.1328896382785505],\n",
       " [0.9271788597106934, 2.137918493092552],\n",
       " [0.993919849395752, 2.103168260334525],\n",
       " [1.0605249404907227, 2.0779047038133114],\n",
       " [1.126830816268921, 2.069317437816368],\n",
       " [1.1931548118591309, 2.0558286910237937],\n",
       " [1.268293857574463, 2.0376412195197258]]"
      ]
     },
     "execution_count": 14,
     "metadata": {},
     "output_type": "execute_result"
    }
   ],
   "source": [
    "ground_truth[0:20]"
   ]
  },
  {
   "cell_type": "code",
   "execution_count": 16,
   "metadata": {},
   "outputs": [
    {
     "name": "stdout",
     "output_type": "stream",
     "text": [
      "done writing to driving_test.csv and test_IMG folder\n"
     ]
    }
   ],
   "source": [
    "with open(DRIVE_TEST_CSV_PATH, 'w') as csvfile:\n",
    "    fieldnames = ['image_path', 'time', 'speed']\n",
    "    writer = csv.DictWriter(csvfile, fieldnames = fieldnames)\n",
    "    writer.writeheader()\n",
    "    \n",
    "    cap = cv2.VideoCapture(VIDEO_PATH)\n",
    "    cap.set(cv2.CAP_PROP_FRAME_COUNT, len(ground_truth))\n",
    "#     cap.set(cv2.CAP_PROP_FPS, 11.7552) #11.7552\n",
    "\n",
    "\n",
    "    for idx, item in enumerate(ground_truth):\n",
    "        \n",
    "        cap.set(cv2.CAP_PROP_POS_FRAMES, idx)\n",
    "        # read in the image\n",
    "        success, image = cap.read()\n",
    "        if success:\n",
    "            image_path = os.path.join(TEST_IMG_PATH, str(item[0]) + '.jpg')\n",
    "            \n",
    "            # save image to IMG folder\n",
    "            cv2.imwrite(image_path, image)\n",
    "            \n",
    "            # write row to driving.csv\n",
    "            writer.writerow({'image_path': image_path, \n",
    "                     'time':item[0],\n",
    "                     'speed':item[1],\n",
    "                    })\n",
    "print('done writing to driving_test.csv and test_IMG folder')"
   ]
  },
  {
   "cell_type": "code",
   "execution_count": 17,
   "metadata": {},
   "outputs": [
    {
     "data": {
      "text/plain": [
       "'./test/test_IMG/732.9520559310913.jpg'"
      ]
     },
     "execution_count": 17,
     "metadata": {},
     "output_type": "execute_result"
    }
   ],
   "source": [
    "image_path"
   ]
  },
  {
   "cell_type": "code",
   "execution_count": 18,
   "metadata": {},
   "outputs": [
    {
     "data": {
      "text/plain": [
       "<VideoCapture 0000023A92DB34B0>"
      ]
     },
     "execution_count": 18,
     "metadata": {},
     "output_type": "execute_result"
    }
   ],
   "source": [
    "cap"
   ]
  },
  {
   "cell_type": "code",
   "execution_count": 22,
   "metadata": {},
   "outputs": [
    {
     "data": {
      "text/plain": [
       "[344640.0]"
      ]
     },
     "execution_count": 22,
     "metadata": {},
     "output_type": "execute_result"
    }
   ],
   "source": [
    "timestmp = [cap.get(cv2.CAP_PROP_POS_MSEC)]\n",
    "timestmp"
   ]
  },
  {
   "cell_type": "code",
   "execution_count": 23,
   "metadata": {},
   "outputs": [
    {
     "data": {
      "text/plain": [
       "True"
      ]
     },
     "execution_count": 23,
     "metadata": {},
     "output_type": "execute_result"
    }
   ],
   "source": [
    "cap.isOpened()"
   ]
  },
  {
   "cell_type": "code",
   "execution_count": 24,
   "metadata": {},
   "outputs": [
    {
     "name": "stdout",
     "output_type": "stream",
     "text": [
      "False\n",
      "None\n"
     ]
    }
   ],
   "source": [
    "frame_exists, curr_frame = cap.read()\n",
    "print(frame_exists)\n",
    "print(curr_frame)"
   ]
  },
  {
   "cell_type": "code",
   "execution_count": 26,
   "metadata": {},
   "outputs": [
    {
     "data": {
      "text/plain": [
       "[732.9520559310913, 0.0]"
      ]
     },
     "execution_count": 26,
     "metadata": {},
     "output_type": "execute_result"
    }
   ],
   "source": [
    "ground_truth[-1]"
   ]
  },
  {
   "cell_type": "code",
   "execution_count": 27,
   "metadata": {},
   "outputs": [],
   "source": [
    "cap.release()"
   ]
  },
  {
   "cell_type": "code",
   "execution_count": 3,
   "metadata": {},
   "outputs": [],
   "source": [
    "cap = cv2.VideoCapture(VIDEO_PATH)\n",
    "fps = cap.get(cv2.CAP_PROP_FPS)\n",
    "\n",
    "timestamps = [cap.get(cv2.CAP_PROP_POS_MSEC)]\n",
    "\n",
    "while(cap.isOpened()):\n",
    "    frame_exists, curr_frame = cap.read()\n",
    "    if frame_exists:\n",
    "        timestamps.append(cap.get(cv2.CAP_PROP_POS_MSEC))\n",
    "    else:\n",
    "        break\n",
    "\n",
    "cap.release()"
   ]
  },
  {
   "cell_type": "code",
   "execution_count": 35,
   "metadata": {},
   "outputs": [
    {
     "data": {
      "text/plain": [
       "732.9522253981216"
      ]
     },
     "execution_count": 35,
     "metadata": {},
     "output_type": "execute_result"
    }
   ],
   "source": [
    "timestamps[-1]/1000/11.7552*fps"
   ]
  },
  {
   "cell_type": "code",
   "execution_count": 4,
   "metadata": {},
   "outputs": [
    {
     "data": {
      "text/plain": [
       "8617"
      ]
     },
     "execution_count": 4,
     "metadata": {},
     "output_type": "execute_result"
    }
   ],
   "source": [
    "len(timestamps)"
   ]
  },
  {
   "cell_type": "code",
   "execution_count": 5,
   "metadata": {},
   "outputs": [
    {
     "data": {
      "text/plain": [
       "[0.0, 40.0, 80.0, 120.0, 160.0, 200.0, 240.0, 280.0, 320.0, 360.0]"
      ]
     },
     "execution_count": 5,
     "metadata": {},
     "output_type": "execute_result"
    }
   ],
   "source": [
    "timestamps[:10]"
   ]
  },
  {
   "cell_type": "code",
   "execution_count": 2,
   "metadata": {},
   "outputs": [],
   "source": [
    "a = [1,1,1]\n",
    "b = a\n",
    "b[1] = 2"
   ]
  },
  {
   "cell_type": "code",
   "execution_count": 4,
   "metadata": {},
   "outputs": [
    {
     "data": {
      "text/plain": [
       "[1, 2, 1]"
      ]
     },
     "execution_count": 4,
     "metadata": {},
     "output_type": "execute_result"
    }
   ],
   "source": [
    "b"
   ]
  },
  {
   "cell_type": "code",
   "execution_count": null,
   "metadata": {},
   "outputs": [],
   "source": []
  }
 ],
 "metadata": {
  "kernelspec": {
   "display_name": "Python 3",
   "language": "python",
   "name": "python3"
  },
  "language_info": {
   "codemirror_mode": {
    "name": "ipython",
    "version": 3
   },
   "file_extension": ".py",
   "mimetype": "text/x-python",
   "name": "python",
   "nbconvert_exporter": "python",
   "pygments_lexer": "ipython3",
   "version": "3.6.6"
  }
 },
 "nbformat": 4,
 "nbformat_minor": 2
}
